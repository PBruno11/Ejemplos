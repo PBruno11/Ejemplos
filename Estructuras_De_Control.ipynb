{
  "nbformat": 4,
  "nbformat_minor": 0,
  "metadata": {
    "colab": {
      "provenance": [],
      "include_colab_link": true
    },
    "kernelspec": {
      "name": "python3",
      "display_name": "Python 3"
    },
    "language_info": {
      "name": "python"
    }
  },
  "cells": [
    {
      "cell_type": "markdown",
      "metadata": {
        "id": "view-in-github",
        "colab_type": "text"
      },
      "source": [
        "<a href=\"https://colab.research.google.com/github/PBruno11/Ejemplos/blob/master/Estructuras_De_Control.ipynb\" target=\"_parent\"><img src=\"https://colab.research.google.com/assets/colab-badge.svg\" alt=\"Open In Colab\"/></a>"
      ]
    },
    {
      "cell_type": "markdown",
      "source": [
        "# 1. **Estructura de control if, else, elif:**\n",
        "La estructura if permite ejecutar un bloque de código si una condición es verdadera. La estructura else permite ejecutar un bloque de código si la condición del if no se cumple. La estructura elif (abreviatura de \"else if\") se utiliza para evaluar múltiples condiciones de forma secuencial."
      ],
      "metadata": {
        "id": "zNgC1uOlvirB"
      }
    },
    {
      "cell_type": "code",
      "execution_count": null,
      "metadata": {
        "id": "Yzz5oGKOvHS-",
        "colab": {
          "base_uri": "https://localhost:8080/"
        },
        "outputId": "c1b18caa-2e8f-4e97-a926-f48aee66d429"
      },
      "outputs": [
        {
          "output_type": "stream",
          "name": "stdout",
          "text": [
            "Ingrese un número: 25.5\n",
            "El número es positivo.\n"
          ]
        }
      ],
      "source": [
        "# Ejemplo de estructura if-else para determinar si un número es positivo, negativo o cero\n",
        "numero = float(input(\"Ingrese un número: \"))\n",
        "\n",
        "if numero > 0:\n",
        "    print(\"El número es positivo.\")\n",
        "elif numero < 0:\n",
        "    print(\"El número es negativo.\")\n",
        "else:\n",
        "    print(\"El número es cero.\")\n",
        "\n",
        "print(\"Chau\")\n"
      ]
    },
    {
      "cell_type": "markdown",
      "source": [
        "# 2. Bucle for:\n",
        "El bucle for se utiliza para iterar sobre una secuencia (como una lista, una tupla, un rango, etc.) y ejecutar un bloque de código para cada elemento de esa secuencia."
      ],
      "metadata": {
        "id": "NJqL1rULwacM"
      }
    },
    {
      "cell_type": "code",
      "source": [
        "# Ejemplo de bucle for para imprimir los primeros 5 números naturales\n",
        "for i in range(5, 20):\n",
        "    print(i)\n"
      ],
      "metadata": {
        "id": "xY592OggwfwB",
        "colab": {
          "base_uri": "https://localhost:8080/"
        },
        "outputId": "781a14b8-7f18-465b-f3c9-1d6e632bd23a"
      },
      "execution_count": null,
      "outputs": [
        {
          "output_type": "stream",
          "name": "stdout",
          "text": [
            "5\n",
            "6\n",
            "7\n",
            "8\n",
            "9\n",
            "10\n",
            "11\n",
            "12\n",
            "13\n",
            "14\n",
            "15\n",
            "16\n",
            "17\n",
            "18\n",
            "19\n"
          ]
        }
      ]
    },
    {
      "cell_type": "markdown",
      "source": [
        "# 3. Bucle while:\n",
        "El bucle while se utiliza para repetir un bloque de código mientras una condición sea verdadera. Se ejecuta el bloque de código repetidamente hasta que la condición se evalúe como falsa."
      ],
      "metadata": {
        "id": "fnq_M-dhwkhv"
      }
    },
    {
      "cell_type": "code",
      "source": [
        "# Ejemplo de bucle while para contar hasta 5\n",
        "contador = 1\n",
        "while contador <= 5:\n",
        "    print(contador)\n",
        "    contador += 1\n"
      ],
      "metadata": {
        "id": "yM1akQgWwr8Z",
        "colab": {
          "base_uri": "https://localhost:8080/"
        },
        "outputId": "6f9fcaf5-2957-43f8-bedd-5069613ebe12"
      },
      "execution_count": null,
      "outputs": [
        {
          "output_type": "stream",
          "name": "stdout",
          "text": [
            "1\n",
            "2\n",
            "3\n",
            "4\n",
            "5\n"
          ]
        }
      ]
    },
    {
      "cell_type": "markdown",
      "source": [
        "## Como pedirle al usuario que ingrese un valor?\n",
        "\n",
        "Para pedir al usuario que ingrese una variable en Python, puedes utilizar la función input(). Esta función toma un mensaje opcional como argumento que se mostrará al usuario antes de solicitar la entrada. La entrada del usuario se captura como una cadena de texto (str), que luego puedes convertir al tipo de dato deseado si es necesario."
      ],
      "metadata": {
        "id": "FPImNLGvzN91"
      }
    },
    {
      "cell_type": "code",
      "source": [
        "# Solicitar al usuario que ingrese su nombre\n",
        "nombre = input(\"Por favor, ingresa tu nombre: \")\n",
        "\n",
        "# Imprimir el nombre ingresado por el usuario\n",
        "print(\"Hola,\", nombre + \"!\")\n"
      ],
      "metadata": {
        "id": "E0_TYGWfzwTj"
      },
      "execution_count": null,
      "outputs": []
    },
    {
      "cell_type": "markdown",
      "source": [
        "Es importante tener en cuenta que input() siempre devuelve una cadena de texto (str), por lo que si necesitas el valor ingresado como un tipo de dato diferente (por ejemplo, un número entero), debes convertirlo explícitamente utilizando funciones como int() o float() según corresponda. Por ejemplo:"
      ],
      "metadata": {
        "id": "e7VJwy2mzzpA"
      }
    },
    {
      "cell_type": "code",
      "source": [
        "# Solicitar al usuario que ingrese su edad\n",
        "edad_str = input(\"Por favor, ingresa tu edad: \")\n",
        "\n",
        "# Convertir la cadena de texto a un número entero\n",
        "edad = int(edad_str)\n",
        "\n",
        "# Imprimir la edad ingresada por el usuario\n",
        "print(\"Tienes\", edad, \"años.\")\n"
      ],
      "metadata": {
        "id": "IraMPrs9z-LZ"
      },
      "execution_count": null,
      "outputs": []
    }
  ]
}